{
 "cells": [
  {
   "cell_type": "code",
   "execution_count": 10,
   "id": "822226bd-52c0-4b1d-9562-3b66a2054236",
   "metadata": {},
   "outputs": [
    {
     "name": "stdin",
     "output_type": "stream",
     "text": [
      "enter the number: 25\n"
     ]
    },
    {
     "name": "stdout",
     "output_type": "stream",
     "text": [
      "number is not prime\n"
     ]
    }
   ],
   "source": [
    "'''\n",
    " Write a Python function to find whether the number if prime or not.\n",
    "def isPrime(num)\n",
    "'''\n",
    "def is_prime(num):\n",
    "    if num<=1:\n",
    "        return False\n",
    "        for i in range(2,int(num**0.5)+1):\n",
    "            if num%i==0:\n",
    "                return Flase\n",
    "                return True\n",
    "number=int(input(\"enter the number:\"))\n",
    "if is_prime(number):\n",
    "    print(\"number is prime\")\n",
    "else:\n",
    "    print(\"number is not prime\")"
   ]
  },
  {
   "cell_type": "code",
   "execution_count": 2,
   "id": "900e0a48-4a83-495c-8b3c-e8be04f5fb0a",
   "metadata": {},
   "outputs": [],
   "source": [
    "'''\n",
    " Write a function is_palindrome(string) that takes a string as input and returns\n",
    "True if the string reads the same backward as forward (e.g., \"racecar\" is a palindrome).\n",
    "'''\n",
    "def is_palindrome(string):\n",
    "    if(string==string[::-1]):\n",
    "        return \"The string is palindrom\"\n",
    "    else: \n",
    "        return \"String is not palindrom\""
   ]
  },
  {
   "cell_type": "code",
   "execution_count": 3,
   "id": "483a1484-e879-45a0-b917-ab497389d6d9",
   "metadata": {},
   "outputs": [
    {
     "data": {
      "text/plain": [
       "'The string is palindrom'"
      ]
     },
     "execution_count": 3,
     "metadata": {},
     "output_type": "execute_result"
    }
   ],
   "source": [
    "is_palindrome('racecar')"
   ]
  },
  {
   "cell_type": "code",
   "execution_count": 6,
   "id": "30bbaca3-0cdf-4f91-b186-62fa62d2cd79",
   "metadata": {},
   "outputs": [],
   "source": [
    "'''\n",
    " Write a function reverse_list(data) that takes a list as input and returns a new list\n",
    "with the elements in reverse order (e.g., reverse_list([1, 2, 3]) returns [3, 2, 1]).\n",
    "'''\n",
    "def reverse_list(data):\n",
    "     return data[::-1]"
   ]
  },
  {
   "cell_type": "code",
   "execution_count": 7,
   "id": "c0b1a97f-a3f0-4a47-b219-136f32566a39",
   "metadata": {},
   "outputs": [
    {
     "data": {
      "text/plain": [
       "[3, 2, 1]"
      ]
     },
     "execution_count": 7,
     "metadata": {},
     "output_type": "execute_result"
    }
   ],
   "source": [
    "reverse_list([1,2,3])"
   ]
  },
  {
   "cell_type": "code",
   "execution_count": 8,
   "id": "8686f783-b0fa-4d96-aaf3-81c17364c552",
   "metadata": {},
   "outputs": [
    {
     "name": "stdin",
     "output_type": "stream",
     "text": [
      "enter file name: nashik\n",
      "enter file contents: python\n"
     ]
    },
    {
     "name": "stdout",
     "output_type": "stream",
     "text": [
      "written successfully\n"
     ]
    }
   ],
   "source": [
    "'''\n",
    " Write a function write_file(filename, content) that takes a filename and\n",
    "content as input and writes the content to the specified file.\n",
    "'''\n",
    "def write_file(filename, content):\n",
    "  with open(filename,'w') as file:\n",
    "    file.write(content)\n",
    "\n",
    "f=input('enter file name:')\n",
    "con=input('enter file contents:')\n",
    "print('written successfully')\n"
   ]
  },
  {
   "cell_type": "code",
   "execution_count": 9,
   "id": "8d9d79c1-d56c-4257-96c0-4d9b3f4e8804",
   "metadata": {},
   "outputs": [
    {
     "name": "stdin",
     "output_type": "stream",
     "text": [
      "enter source file name nashik\n",
      "enter destination file name  desnashik\n"
     ]
    },
    {
     "name": "stdout",
     "output_type": "stream",
     "text": [
      "file not found\n"
     ]
    }
   ],
   "source": [
    "'''\n",
    " Write a function copy_file(source_filename, destination_filename) that\n",
    "takes the source and destination filenames as input and copies the content of the source\n",
    "file to the destination file. Handle cases where the source file doesn't exist.\n",
    "'''\n",
    "def copy_file(source_filename, destination_filename):\n",
    "    try:\n",
    "        with open(source_filename, 'r') as source_file:\n",
    "            content = source_file.read()\n",
    "        with open(destination_filename, 'w') as destination_file:\n",
    "            destination_file.write(content)\n",
    "        print(f\"Content copied from {source_filename} to {destination_filename}\")\n",
    "    except FileNotFoundError:\n",
    "        print('file not found')\n",
    "\n",
    "s=input('enter source file name')\n",
    "d=input('enter destination file name ')\n",
    "copy_file(s,d)"
   ]
  },
  {
   "cell_type": "code",
   "execution_count": 11,
   "id": "106ea28b-f3d6-4d4b-a631-ac8d717882a1",
   "metadata": {},
   "outputs": [
    {
     "name": "stdout",
     "output_type": "stream",
     "text": [
      "The dot product of [1 2 3] and [4 5 6] is 32\n"
     ]
    }
   ],
   "source": [
    "'''\n",
    "Implement a function to calculate the dot product of two NumPy arrays.\n",
    "'''\n",
    "import numpy as np\n",
    "\n",
    "def dot_product(array1, array2):\n",
    "    return np.dot(array1, array2)\n",
    "\n",
    "\n",
    "array1 = np.array([1, 2, 3])\n",
    "array2 = np.array([4, 5, 6])\n",
    "\n",
    "result = dot_product(array1, array2)\n",
    "print(f\"The dot product of {array1} and {array2} is {result}\")\n"
   ]
  },
  {
   "cell_type": "code",
   "execution_count": 12,
   "id": "66db8b5d-c856-45c9-8d5b-cadcaf17037b",
   "metadata": {},
   "outputs": [],
   "source": [
    "'''\n",
    " Implement a GUI with a radio button selection for choosing a favorite color (e.g., red,\n",
    "green, blue). Change the background color of the window based on the selected radio\n",
    "button.\n",
    "'''\n",
    "import tkinter as tk\n",
    "from threading import Thread\n",
    "\n",
    "def run_tkinter_app():\n",
    "    def change_color():\n",
    "        selected_color = color_var.get()\n",
    "        if selected_color == \"Red\":\n",
    "            root.configure(bg=\"red\")\n",
    "        elif selected_color == \"Green\":\n",
    "            root.configure(bg=\"green\")\n",
    "        elif selected_color == \"Blue\":\n",
    "            root.configure(bg=\"blue\")\n",
    "\n",
    " \n",
    "    root = tk.Tk()\n",
    "    root.title(\"Favorite Color Selector\")\n",
    "    root.geometry(\"300x200\")\n",
    "\n",
    "    \n",
    "    color_var = tk.StringVar()\n",
    "    color_var.set(\"Red\") \n",
    "\n",
    "   \n",
    "    red_radio = tk.Radiobutton(root, text=\"Red\", variable=color_var, value=\"Red\", command=change_color)\n",
    "    red_radio.pack(anchor=tk.W)\n",
    "\n",
    "    green_radio = tk.Radiobutton(root, text=\"Green\", variable=color_var, value=\"Green\", command=change_color)\n",
    "    green_radio.pack(anchor=tk.W)\n",
    "\n",
    "    blue_radio = tk.Radiobutton(root, text=\"Blue\", variable=color_var, value=\"Blue\", command=change_color)\n",
    "    blue_radio.pack(anchor=tk.W)\n",
    "\n",
    "   \n",
    "    change_color()\n",
    "\n",
    "    \n",
    "    root.mainloop()\n",
    "\n",
    "\n",
    "thread = Thread(target=run_tkinter_app)\n",
    "thread.start()"
   ]
  }
 ],
 "metadata": {
  "kernelspec": {
   "display_name": "Python 3 (ipykernel)",
   "language": "python",
   "name": "python3"
  },
  "language_info": {
   "codemirror_mode": {
    "name": "ipython",
    "version": 3
   },
   "file_extension": ".py",
   "mimetype": "text/x-python",
   "name": "python",
   "nbconvert_exporter": "python",
   "pygments_lexer": "ipython3",
   "version": "3.11.7"
  }
 },
 "nbformat": 4,
 "nbformat_minor": 5
}
