{
 "cells": [
  {
   "cell_type": "code",
   "execution_count": null,
   "id": "6555bb84-c908-4be4-b10d-94876793f8be",
   "metadata": {},
   "outputs": [],
   "source": [
    "'''1. Create a package named ‘cricket’ which will contain modules named\n",
    "batsman and bowler. Create following functions in respective modules.\n",
    "Import the package and call all these functions in your program\n",
    "batsman: findaverage(runs,matches), strikerate(runs,balls)\n",
    "bowler: findavg(runs,wickets), economyrate(overs, runs)'''\n",
    "\n",
    "def find_average(runs, matches):\n",
    "    return runs / matches\n",
    "\n",
    "def strike_rate(runs, balls):\n",
    "    return (runs / balls) * 100\n",
    "\n",
    "def find_avg(runs, wickets):\n",
    "    return runs / wickets\n",
    "\n",
    "def economy_rate(overs, runs):\n",
    "    return runs / overs\n",
    "\n",
    "\n",
    "from cricket.batsman import find_average, strike_rate\n",
    "from cricket.bowler import find_avg, economy_rate\n",
    "\n",
    "\n",
    "batsman_runs = 1000\n",
    "batsman_matches = 10\n",
    "batsman_balls = 500\n",
    "\n",
    "print(\"Batsman Average:\", find_average(batsman_runs, batsman_matches))\n",
    "print(\"Batsman Strike Rate:\", strike_rate(batsman_runs, batsman_balls))\n",
    "\n",
    "\n",
    "bowler_runs = 1000\n",
    "bowler_wickets = 10\n",
    "bowler_overs = 50\n",
    "bowler_runs_conceded = 1000\n",
    "\n",
    "print(\"Bowler Average:\", find_avg(bowler_runs, bowler_wickets))\n",
    "print(\"Bowler Economy Rate:\", economy_rate(bowler_overs, bowler_runs_conceded))"
   ]
  },
  {
   "cell_type": "code",
   "execution_count": 10,
   "id": "822226bd-52c0-4b1d-9562-3b66a2054236",
   "metadata": {},
   "outputs": [
    {
     "name": "stdin",
     "output_type": "stream",
     "text": [
      "enter the number: 25\n"
     ]
    },
    {
     "name": "stdout",
     "output_type": "stream",
     "text": [
      "number is not prime\n"
     ]
    }
   ],
   "source": [
    "'''\n",
    " Write a Python function to find whether the number if prime or not.\n",
    "def isPrime(num)\n",
    "'''\n",
    "def is_prime(num):\n",
    "    if num<=1:\n",
    "        return False\n",
    "        for i in range(2,int(num**0.5)+1):\n",
    "            if num%i==0:\n",
    "                return Flase\n",
    "                return True\n",
    "number=int(input(\"enter the number:\"))\n",
    "if is_prime(number):\n",
    "    print(\"number is prime\")\n",
    "else:\n",
    "    print(\"number is not prime\")"
   ]
  },
  {
   "cell_type": "code",
   "execution_count": 2,
   "id": "900e0a48-4a83-495c-8b3c-e8be04f5fb0a",
   "metadata": {},
   "outputs": [],
   "source": [
    "'''\n",
    " Write a function is_palindrome(string) that takes a string as input and returns\n",
    "True if the string reads the same backward as forward (e.g., \"racecar\" is a palindrome).\n",
    "'''\n",
    "def is_palindrome(string):\n",
    "    if(string==string[::-1]):\n",
    "        return \"The string is palindrom\"\n",
    "    else: \n",
    "        return \"String is not palindrom\""
   ]
  },
  {
   "cell_type": "code",
   "execution_count": 3,
   "id": "483a1484-e879-45a0-b917-ab497389d6d9",
   "metadata": {},
   "outputs": [
    {
     "data": {
      "text/plain": [
       "'The string is palindrom'"
      ]
     },
     "execution_count": 3,
     "metadata": {},
     "output_type": "execute_result"
    }
   ],
   "source": [
    "is_palindrome('racecar')"
   ]
  },
  {
   "cell_type": "code",
   "execution_count": 6,
   "id": "30bbaca3-0cdf-4f91-b186-62fa62d2cd79",
   "metadata": {},
   "outputs": [],
   "source": [
    "'''\n",
    " Write a function reverse_list(data) that takes a list as input and returns a new list\n",
    "with the elements in reverse order (e.g., reverse_list([1, 2, 3]) returns [3, 2, 1]).\n",
    "'''\n",
    "def reverse_list(data):\n",
    "     return data[::-1]"
   ]
  },
  {
   "cell_type": "code",
   "execution_count": 7,
   "id": "c0b1a97f-a3f0-4a47-b219-136f32566a39",
   "metadata": {},
   "outputs": [
    {
     "data": {
      "text/plain": [
       "[3, 2, 1]"
      ]
     },
     "execution_count": 7,
     "metadata": {},
     "output_type": "execute_result"
    }
   ],
   "source": [
    "reverse_list([1,2,3])"
   ]
  },
  {
   "cell_type": "code",
   "execution_count": 8,
   "id": "8686f783-b0fa-4d96-aaf3-81c17364c552",
   "metadata": {},
   "outputs": [
    {
     "name": "stdin",
     "output_type": "stream",
     "text": [
      "enter file name: nashik\n",
      "enter file contents: python\n"
     ]
    },
    {
     "name": "stdout",
     "output_type": "stream",
     "text": [
      "written successfully\n"
     ]
    }
   ],
   "source": [
    "'''\n",
    " Write a function write_file(filename, content) that takes a filename and\n",
    "content as input and writes the content to the specified file.\n",
    "'''\n",
    "def write_file(filename, content):\n",
    "  with open(filename,'w') as file:\n",
    "    file.write(content)\n",
    "\n",
    "f=input('enter file name:')\n",
    "con=input('enter file contents:')\n",
    "print('written successfully')\n"
   ]
  },
  {
   "cell_type": "code",
   "execution_count": 9,
   "id": "8d9d79c1-d56c-4257-96c0-4d9b3f4e8804",
   "metadata": {},
   "outputs": [
    {
     "name": "stdin",
     "output_type": "stream",
     "text": [
      "enter source file name nashik\n",
      "enter destination file name  desnashik\n"
     ]
    },
    {
     "name": "stdout",
     "output_type": "stream",
     "text": [
      "file not found\n"
     ]
    }
   ],
   "source": [
    "'''\n",
    " Write a function copy_file(source_filename, destination_filename) that\n",
    "takes the source and destination filenames as input and copies the content of the source\n",
    "file to the destination file. Handle cases where the source file doesn't exist.\n",
    "'''\n",
    "def copy_file(source_filename, destination_filename):\n",
    "    try:\n",
    "        with open(source_filename, 'r') as source_file:\n",
    "            content = source_file.read()\n",
    "        with open(destination_filename, 'w') as destination_file:\n",
    "            destination_file.write(content)\n",
    "        print(f\"Content copied from {source_filename} to {destination_filename}\")\n",
    "    except FileNotFoundError:\n",
    "        print('file not found')\n",
    "\n",
    "s=input('enter source file name')\n",
    "d=input('enter destination file name ')\n",
    "copy_file(s,d)"
   ]
  },
  {
   "cell_type": "code",
   "execution_count": 11,
   "id": "106ea28b-f3d6-4d4b-a631-ac8d717882a1",
   "metadata": {},
   "outputs": [
    {
     "name": "stdout",
     "output_type": "stream",
     "text": [
      "The dot product of [1 2 3] and [4 5 6] is 32\n"
     ]
    }
   ],
   "source": [
    "'''\n",
    "Implement a function to calculate the dot product of two NumPy arrays.\n",
    "'''\n",
    "import numpy as np\n",
    "\n",
    "def dot_product(array1, array2):\n",
    "    return np.dot(array1, array2)\n",
    "\n",
    "\n",
    "array1 = np.array([1, 2, 3])\n",
    "array2 = np.array([4, 5, 6])\n",
    "\n",
    "result = dot_product(array1, array2)\n",
    "print(f\"The dot product of {array1} and {array2} is {result}\")\n"
   ]
  },
  {
   "cell_type": "code",
   "execution_count": 12,
   "id": "66db8b5d-c856-45c9-8d5b-cadcaf17037b",
   "metadata": {},
   "outputs": [],
   "source": [
    "'''\n",
    " Implement a GUI with a radio button selection for choosing a favorite color (e.g., red,\n",
    "green, blue). Change the background color of the window based on the selected radio\n",
    "button.\n",
    "'''\n",
    "import tkinter as tk\n",
    "from threading import Thread\n",
    "\n",
    "def run_tkinter_app():\n",
    "    def change_color():\n",
    "        selected_color = color_var.get()\n",
    "        if selected_color == \"Red\":\n",
    "            root.configure(bg=\"red\")\n",
    "        elif selected_color == \"Green\":\n",
    "            root.configure(bg=\"green\")\n",
    "        elif selected_color == \"Blue\":\n",
    "            root.configure(bg=\"blue\")\n",
    "\n",
    " \n",
    "    root = tk.Tk()\n",
    "    root.title(\"Favorite Color Selector\")\n",
    "    root.geometry(\"300x200\")\n",
    "\n",
    "    \n",
    "    color_var = tk.StringVar()\n",
    "    color_var.set(\"Red\") \n",
    "\n",
    "   \n",
    "    red_radio = tk.Radiobutton(root, text=\"Red\", variable=color_var, value=\"Red\", command=change_color)\n",
    "    red_radio.pack(anchor=tk.W)\n",
    "\n",
    "    green_radio = tk.Radiobutton(root, text=\"Green\", variable=color_var, value=\"Green\", command=change_color)\n",
    "    green_radio.pack(anchor=tk.W)\n",
    "\n",
    "    blue_radio = tk.Radiobutton(root, text=\"Blue\", variable=color_var, value=\"Blue\", command=change_color)\n",
    "    blue_radio.pack(anchor=tk.W)\n",
    "\n",
    "   \n",
    "    change_color()\n",
    "\n",
    "    \n",
    "    root.mainloop()\n",
    "\n",
    "\n",
    "thread = Thread(target=run_tkinter_app)\n",
    "thread.start()"
   ]
  },
  {
   "cell_type": "code",
   "execution_count": 5,
   "id": "8aa7708e-051d-4e5c-96e2-299ef4f6f141",
   "metadata": {},
   "outputs": [],
   "source": [
    "'''9. Design a currency converter GUI. Allow users to enter an amount and select the\n",
    "currencies they want to convert between (e.g., USD, EUR). Display the converted\n",
    "amount in the selected currency'''\n",
    "import tkinter as tk\n",
    "from tkinter import ttk\n",
    "\n",
    "exchange_rates = {\n",
    "    \"USD\": 1.0,\n",
    "    \"EUR\": 0.85,\n",
    "    \"JPY\": 110.15,\n",
    "    \"GBP\": 0.72,\n",
    "    \"AUD\": 1.31,\n",
    "    \"CAD\": 1.25,\n",
    "    \"CHF\": 0.92,\n",
    "    \"CNY\": 6.38,\n",
    "    \"HKD\": 7.76,\n",
    "    \"NZD\": 1.39\n",
    "}\n",
    "\n",
    "def convert_currency():\n",
    "    try:\n",
    "        amount = float(amount_entry.get())\n",
    "        from_currency = from_currency_combobox.get()\n",
    "        to_currency = to_currency_combobox.get()\n",
    "\n",
    "        if from_currency == to_currency:\n",
    "            converted_amount = amount\n",
    "        else:\n",
    "            converted_amount = amount * (exchange_rates[to_currency] / exchange_rates[from_currency])\n",
    "\n",
    "        result_label.config(text=f\"{amount:.2f} {from_currency} = {converted_amount:.2f} {to_currency}\")\n",
    "    except ValueError:\n",
    "        result_label.config(text=\"Please enter a valid amount.\")\n",
    "\n",
    "root = tk.Tk()\n",
    "root.title(\"Currency Converter\")\n",
    "\n",
    "amount_label = tk.Label(root, text=\"Amount:\")\n",
    "amount_entry = tk.Entry(root)\n",
    "\n",
    "from_currency_label = tk.Label(root, text=\"From:\")\n",
    "from_currency_combobox = ttk.Combobox(root, values=list(exchange_rates.keys()), state=\"readonly\")\n",
    "from_currency_combobox.current(0)\n",
    "\n",
    "to_currency_label = tk.Label(root, text=\"To:\")\n",
    "to_currency_combobox = ttk.Combobox(root, values=list(exchange_rates.keys()), state=\"readonly\")\n",
    "to_currency_combobox.current(1)\n",
    "\n",
    "convert_button = tk.Button(root, text=\"Convert\", command=convert_currency)\n",
    "result_label = tk.Label(root, text=\"\")\n",
    "\n",
    "amount_label.grid(row=0, column=0, padx=10, pady=10)\n",
    "amount_entry.grid(row=0, column=1, padx=10, pady=10)\n",
    "\n",
    "from_currency_label.grid(row=1, column=0, padx=10, pady=10)\n",
    "from_currency_combobox.grid(row=1, column=1, padx=10, pady=10)\n",
    "\n",
    "to_currency_label.grid(row=2, column=0, padx=10, pady=10)\n",
    "to_currency_combobox.grid(row=2, column=1, padx=10, pady=10)\n",
    "\n",
    "convert_button.grid(row=3, column=0, columnspan=2, padx=10, pady=10)\n",
    "result_label.grid(row=4, column=0, columnspan=2, padx=10, pady=10)\n",
    "\n",
    "root.mainloop()"
   ]
  },
  {
   "cell_type": "code",
   "execution_count": null,
   "id": "ece019f6-0882-45c9-a0ea-f77cdf6a6822",
   "metadata": {},
   "outputs": [],
   "source": []
  }
 ],
 "metadata": {
  "kernelspec": {
   "display_name": "Python 3 (ipykernel)",
   "language": "python",
   "name": "python3"
  },
  "language_info": {
   "codemirror_mode": {
    "name": "ipython",
    "version": 3
   },
   "file_extension": ".py",
   "mimetype": "text/x-python",
   "name": "python",
   "nbconvert_exporter": "python",
   "pygments_lexer": "ipython3",
   "version": "3.11.7"
  }
 },
 "nbformat": 4,
 "nbformat_minor": 5
}
