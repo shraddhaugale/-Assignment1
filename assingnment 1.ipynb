{
 "cells": [
  {
   "cell_type": "code",
   "execution_count": 1,
   "id": "b8a9d9a2-bb86-4c76-8671-1d396ecfabcf",
   "metadata": {},
   "outputs": [
    {
     "name": "stdin",
     "output_type": "stream",
     "text": [
      "enter the day 446\n"
     ]
    },
    {
     "name": "stdout",
     "output_type": "stream",
     "text": [
      "1\n",
      "81\n",
      "4\n",
      "4\n",
      "year= 1 week= 4 day= 4\n"
     ]
    }
   ],
   "source": [
    "'''1.Write a program to convert specified days into years, weeks and days.\n",
    "Take\n",
    "user input.\n",
    "Note: Ignore leap year.'''\n",
    "day=int(input(\"enter the day\"))\n",
    "if day%366==0:\n",
    "    print(\"it is leap year\")\n",
    "else:\n",
    "    year=day//365\n",
    "    print(year)\n",
    "    rem_day=day%365\n",
    "    print(rem_day)\n",
    "    week=rem_day%7\n",
    "    print(week)\n",
    "    day=rem_day%7\n",
    "    print(day)\n",
    "    print(\"year=\",year,'week=',week,'day=',day)\n"
   ]
  },
  {
   "cell_type": "code",
   "execution_count": 3,
   "id": "2f2e7513-d4ad-43eb-a6da-6a31fcb0a73d",
   "metadata": {},
   "outputs": [
    {
     "name": "stdin",
     "output_type": "stream",
     "text": [
      "Enter the basic salary of the employee:  5000\n"
     ]
    },
    {
     "name": "stdout",
     "output_type": "stream",
     "text": [
      "Gross salary: 10000.0\n"
     ]
    }
   ],
   "source": [
    "'''2. Write a Python program to input basiPython salary of an employee and\n",
    "calculate its Gross salary according to following:\n",
    "Basic Salary <= 10000 : HRA = 20%, DA = 80%\n",
    "Basic Salary <= 20000 : HRA = 30%, DA = 90%\n",
    "Basic Salary > 20000 : HRA = 35%, DA = 95%'''\n",
    "basic_salary = float(input(\"Enter the basic salary of the employee: \"))\n",
    "\n",
    "if basic_salary <= 10000:\n",
    "    hra = 0.20 * basic_salary\n",
    "    da = 0.80 * basic_salary\n",
    "elif basic_salary <= 20000:\n",
    "    hra = 0.30 * basic_salary\n",
    "    da = 0.90 * basic_salary\n",
    "else:\n",
    "    hra = 0.35 * basic_salary\n",
    "    da = 0.95 * basic_salary\n",
    "\n",
    "gross_salary = basic_salary + hra + da\n",
    "print(\"Gross salary:\", gross_salary)\n"
   ]
  },
  {
   "cell_type": "code",
   "execution_count": 4,
   "id": "b8cbf7c3-125f-4c42-977b-ec97977b771e",
   "metadata": {},
   "outputs": [
    {
     "name": "stdin",
     "output_type": "stream",
     "text": [
      "Enter the number of electricity units consumed:  40\n"
     ]
    },
    {
     "name": "stdout",
     "output_type": "stream",
     "text": [
      "Total electricity bill: Rs. 23.4\n"
     ]
    }
   ],
   "source": [
    "'''3.Write a Python program to input electricity unit charges and calculate total\n",
    "electricity bill according to the given condition:\n",
    "For first 50 units Rs. 0.50/unit\n",
    "For next 100 units Rs. 0.75/unit\n",
    "For next 100 units Rs. 1.25/unit\n",
    "For unit above 250 Rs. 1.50/unit\n",
    "An additional surcharge of 17% is added to the bill'''\n",
    "# Input electricity unit charges\n",
    "units = int(input(\"Enter the number of electricity units consumed: \"))\n",
    "\n",
    "\n",
    "if units <= 50:\n",
    "    bill = units * 0.50\n",
    "elif units <= 150:\n",
    "    bill = (50 * 0.50) + ((units - 50) * 0.75)\n",
    "elif units <= 250:\n",
    "    bill = (50 * 0.50) + (100 * 0.75) + ((units - 150) * 1.25)\n",
    "else:\n",
    "    bill = (50 * 0.50) + (100 * 0.75) + (100 * 1.25) + ((units - 250) * 1.50)\n",
    "surcharge = 0.17 * bill\n",
    "total_bill = bill + surcharge\n",
    "\n",
    "print(\"Total electricity bill: Rs.\", total_bill)\n"
   ]
  },
  {
   "cell_type": "code",
   "execution_count": 5,
   "id": "6a1d4dfc-c020-4aa5-9204-aa5067d212a3",
   "metadata": {},
   "outputs": [
    {
     "name": "stdout",
     "output_type": "stream",
     "text": [
      "\n",
      "1 \n",
      "2 2 \n",
      "3 3 3 \n",
      "4 4 4 4 \n",
      "5 5 5 5 5 "
     ]
    }
   ],
   "source": [
    "''' 4.Write a Python program to print the given number patterns.\n",
    "1\n",
    "2 2\n",
    "3 3 3\n",
    "4 4 4 4\n",
    "5 5 5 5 5'''\n",
    "row=5\n",
    "for i in range(1,row+1):\n",
    "    print()\n",
    "    for j in range(i):\n",
    "        print(i,end=' ')"
   ]
  },
  {
   "cell_type": "code",
   "execution_count": 2,
   "id": "39b1737f-7bb6-4704-8d8f-df018a846660",
   "metadata": {},
   "outputs": [
    {
     "name": "stdin",
     "output_type": "stream",
     "text": [
      "enter the number 123\n"
     ]
    },
    {
     "name": "stdout",
     "output_type": "stream",
     "text": [
      "3\n",
      "6\n",
      "6\n"
     ]
    }
   ],
   "source": [
    "'''5. Write a Python program to calculate product of digits of a number. Read\n",
    "value of n from user.'''\n",
    "n=int(input(\"enter the number\"))\n",
    "p=1\n",
    "while n>0:\n",
    "    rem=n%10\n",
    "    p=p*rem\n",
    "    n=n//10\n",
    "    print(p)\n",
    "                                                                                                                                                                              "
   ]
  },
  {
   "cell_type": "code",
   "execution_count": 50,
   "id": "ac26c1d7-e208-4459-937f-b92912f46c94",
   "metadata": {},
   "outputs": [
    {
     "name": "stdout",
     "output_type": "stream",
     "text": [
      "1. Strings only: ['Hello', 'World']\n",
      "2. Upper case strings: ['HELLO', 'WORLD']\n",
      "3. Sum of integers: 124\n",
      "4. Is 56 present? False\n",
      "5. Reversed list: ['World', 23.45, 'Hello', 12, 67, 45]\n",
      "6. List after removing 'Hello': [45, 67, 12, 23.45, 'World']\n",
      "7. List after inserting 36 at 5th position: [45, 67, 12, 23.45, 36, 'World']\n",
      "8. Total number of elements in the list: 6\n",
      "9. Values from 2nd index to 5th index: [67, 12, 23.45, 36]\n",
      "10. List after appending [34, 'Pune']: [45, 67, 12, 23.45, 36, 'World', 34, 'Pune']\n",
      "11. List after deleting the last element: [45, 67, 12, 23.45, 36, 'World', 34]\n"
     ]
    }
   ],
   "source": [
    "'''\n",
    "6.Create a list of elements like: x = [45, 67, 12, ‘Hello’, 23.45, ‘World’] and\n",
    "oerform following\n",
    "operations\n",
    "1. Extract only string values from this list.\n",
    "2. Create a new list with strings in upper case.\n",
    "\n",
    "3. Find the addition of integer values\n",
    "4. Check that the value 56 is present in it or not.\n",
    "5. Print the list in reverse order.\n",
    "6. Delete the string ‘Hello’ from it.\n",
    "7. Insert a new value of 36 at 5th position in list.\n",
    "8. Count total number of elements in list now.\n",
    "9. Extract the values from 2nd index to 5th index.\n",
    "10. Append [34, ‘Pune’] to this list.\n",
    "11. Delete the last element from list.\n",
    "'''\n",
    "# Given list\n",
    "x = [45, 67, 12, 'Hello', 23.45, 'World']\n",
    "\n",
    "# 1. Extract only string values from the list\n",
    "strings_only = [item for item in x if isinstance(item, str)]\n",
    "print(\"1. Strings only:\", strings_only)\n",
    "\n",
    "# 2. Create a new list with strings in upper case\n",
    "upper_strings = [string.upper() for string in strings_only]\n",
    "print(\"2. Upper case strings:\", upper_strings)\n",
    "\n",
    "# 3. Find the addition of integer values\n",
    "integer_sum = sum([item for item in x if isinstance(item, int)])\n",
    "print(\"3. Sum of integers:\", integer_sum)\n",
    "\n",
    "# 4. Check if the value 56 is present in the list or not\n",
    "is_56_present = 56 in x\n",
    "print(\"4. Is 56 present?\", is_56_present)\n",
    "\n",
    "# 5. Print the list in reverse order\n",
    "print(\"5. Reversed list:\", x[::-1])\n",
    "\n",
    "# 6. Delete the string 'Hello' from the list\n",
    "x.remove('Hello')\n",
    "print(\"6. List after removing 'Hello':\", x)\n",
    "\n",
    "# 7. Insert a new value of 36 at 5th position in the list\n",
    "x.insert(4, 36)\n",
    "print(\"7. List after inserting 36 at 5th position:\", x)\n",
    "\n",
    "# 8. Count total number of elements in the list now\n",
    "total_elements = len(x)\n",
    "print(\"8. Total number of elements in the list:\", total_elements)\n",
    "\n",
    "# 9. Extract the values from 2nd index to 5th index\n",
    "extracted_values = x[1:5]\n",
    "print(\"9. Values from 2nd index to 5th index:\", extracted_values)\n",
    "\n",
    "# 10. Append [34, 'Pune'] to the list\n",
    "x.extend([34, 'Pune'])\n",
    "print(\"10. List after appending [34, 'Pune']:\", x)\n",
    "\n",
    "# 11. Delete the last element from the list\n",
    "del x[-1]\n",
    "print(\"11. List after deleting the last element:\", x)\n"
   ]
  },
  {
   "cell_type": "code",
   "execution_count": 27,
   "id": "89c8a969-3196-42f0-9bb1-d203bb205603",
   "metadata": {},
   "outputs": [
    {
     "name": "stdout",
     "output_type": "stream",
     "text": [
      "[11.1, 25.3, 45.23, 56.9, 87.0]\n",
      "False\n"
     ]
    },
    {
     "data": {
      "text/plain": [
       "{11.1, 25.3, 45.23, 56.9, 87.0}"
      ]
     },
     "execution_count": 27,
     "metadata": {},
     "output_type": "execute_result"
    }
   ],
   "source": [
    " '''\n",
    "7. Create a tuple of elements with 5 float values in it and perform following\n",
    "operations.\n",
    "1. Print the data in sorted manner.\n",
    "2. Check to see that the element 50 is present in it.\n",
    "3. Convert this tuple in set.\n",
    " '''\n",
    "t=(11.1,25.3,56.9,87.0,45.23)\n",
    "t\n",
    "#1. Print the data in sorted manner.\n",
    "print(sorted(t))\n",
    "#2. Check to see that the element 50 is present in it.\n",
    "print(50 in t)\n",
    "#3. Convert this tuple in set.\n",
    "s=set(t)\n",
    "s"
   ]
  },
  {
   "cell_type": "code",
   "execution_count": 43,
   "id": "c4cadcf2-99b7-42b8-ad18-0b91ee87cafa",
   "metadata": {},
   "outputs": [
    {
     "name": "stdout",
     "output_type": "stream",
     "text": [
      "king\n",
      "{'a': 'apple', 'b': 'ball', 'c': 'cat', 'd': 'doll', 'k': 'king', 'z': 'zebra'}\n",
      "{'a': 'apple', 'b': 'ball', 'c': 'cat', 'd': 'dog', 'k': 'king', 'z': 'zebra'}\n",
      "['apple', 'ball', 'cat', 'dog', 'king', 'zebra']\n"
     ]
    },
    {
     "data": {
      "text/plain": [
       "6"
      ]
     },
     "execution_count": 43,
     "metadata": {},
     "output_type": "execute_result"
    }
   ],
   "source": [
    "'''\n",
    "8.Create a dictionary of elements: {‘a’: ‘apple’, ‘b’: ‘ball’, ‘c’: ‘cat’, ‘d’: ‘doll’, ‘k',‘king’} and\n",
    "perform following operations.\n",
    "1. Access the data at key ‘k’.\n",
    "2. Add a new values ‘z’: ‘zebra’\n",
    "3. Replace the contents of ‘d’ as ‘dog’\n",
    "4. Print all the values from this dictionary.\n",
    "5. Find the length of this dictionary.\n",
    "'''\n",
    "dict={'a': 'apple', 'b': 'ball', 'c': 'cat', 'd': 'doll', 'k':'king'}\n",
    "#1. Access the data at key ‘k’.\n",
    "value=dict['k']\n",
    "print(value)\n",
    "\n",
    "#2. Add a new values ‘z’: ‘zebra\n",
    "dict['z'] = 'zebra'\n",
    "print(dict)\n",
    "#3. Replace the contents of ‘d’ as 'dog'\n",
    "dict['d'] = 'dog'\n",
    "print(dict)\n",
    "#4. Print all the values from this dictionary.\n",
    "print(list(dict.values()))\n",
    "#5. Find the length of this dictionary.\n",
    "len(dict)"
   ]
  },
  {
   "cell_type": "code",
   "execution_count": 48,
   "id": "64b55023-c452-4382-9aef-c0b5adebea29",
   "metadata": {},
   "outputs": [
    {
     "name": "stdout",
     "output_type": "stream",
     "text": [
      "second largest no is 87\n"
     ]
    }
   ],
   "source": [
    "9.#Write a program to find the second largest element in a list.\n",
    "a=[15,76,13,87,24,89,87]\n",
    "c=sorted(a)\n",
    "print('second largest no is',c[-2])"
   ]
  },
  {
   "cell_type": "code",
   "execution_count": 49,
   "id": "69e4465b-f534-4c6a-88d7-741d8c03763c",
   "metadata": {},
   "outputs": [
    {
     "name": "stdout",
     "output_type": "stream",
     "text": [
      "['silvar', 'gold', 'platinum', 'bronze', 'iron']\n"
     ]
    }
   ],
   "source": [
    "'''\n",
    "10.This is a list of some metallic elements.\n",
    "metals = [ 'silver','gold', ... ]\n",
    "Make a new list that is almost identical to the metals list: the new\n",
    "contains the same items, in the same order, except that it does NOT\n",
    "contain the item 'copper'.\n",
    "'''\n",
    "metals=['silvar','gold']\n",
    "new=metals\n",
    "new.append('platinum')\n",
    "new.append('bronze')\n",
    "new.append('iron')\n",
    "print(new)"
   ]
  }
 ],
 "metadata": {
  "kernelspec": {
   "display_name": "Python 3 (ipykernel)",
   "language": "python",
   "name": "python3"
  },
  "language_info": {
   "codemirror_mode": {
    "name": "ipython",
    "version": 3
   },
   "file_extension": ".py",
   "mimetype": "text/x-python",
   "name": "python",
   "nbconvert_exporter": "python",
   "pygments_lexer": "ipython3",
   "version": "3.11.7"
  }
 },
 "nbformat": 4,
 "nbformat_minor": 5
}
